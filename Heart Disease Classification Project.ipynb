{
 "cells": [
  {
   "cell_type": "code",
   "execution_count": 1,
   "metadata": {
    "_cell_guid": "b1076dfc-b9ad-4769-8c92-a6c4dae69d19",
    "_uuid": "8f2839f25d086af736a60e9eeb907d3b93b6e0e5",
    "execution": {
     "iopub.execute_input": "2024-11-24T09:05:04.828810Z",
     "iopub.status.busy": "2024-11-24T09:05:04.827648Z",
     "iopub.status.idle": "2024-11-24T09:05:08.277061Z",
     "shell.execute_reply": "2024-11-24T09:05:08.275693Z",
     "shell.execute_reply.started": "2024-11-24T09:05:04.828753Z"
    }
   },
   "outputs": [],
   "source": [
    "#import libraries\n",
    "import pandas as pd\n",
    "import matplotlib.pyplot as plt\n",
    "import seaborn as sns\n",
    "from sklearn.model_selection import train_test_split"
   ]
  },
  {
   "cell_type": "code",
   "execution_count": 2,
   "metadata": {
    "execution": {
     "iopub.execute_input": "2024-11-24T09:05:10.957765Z",
     "iopub.status.busy": "2024-11-24T09:05:10.957208Z",
     "iopub.status.idle": "2024-11-24T09:05:11.003388Z",
     "shell.execute_reply": "2024-11-24T09:05:11.002197Z",
     "shell.execute_reply.started": "2024-11-24T09:05:10.957728Z"
    }
   },
   "outputs": [
    {
     "data": {
      "text/html": [
       "<div>\n",
       "<style scoped>\n",
       "    .dataframe tbody tr th:only-of-type {\n",
       "        vertical-align: middle;\n",
       "    }\n",
       "\n",
       "    .dataframe tbody tr th {\n",
       "        vertical-align: top;\n",
       "    }\n",
       "\n",
       "    .dataframe thead th {\n",
       "        text-align: right;\n",
       "    }\n",
       "</style>\n",
       "<table border=\"1\" class=\"dataframe\">\n",
       "  <thead>\n",
       "    <tr style=\"text-align: right;\">\n",
       "      <th></th>\n",
       "      <th>age</th>\n",
       "      <th>sex</th>\n",
       "      <th>cp</th>\n",
       "      <th>trestbps</th>\n",
       "      <th>chol</th>\n",
       "      <th>fbs</th>\n",
       "      <th>restecg</th>\n",
       "      <th>thalach</th>\n",
       "      <th>exang</th>\n",
       "      <th>oldpeak</th>\n",
       "      <th>slope</th>\n",
       "      <th>ca</th>\n",
       "      <th>thal</th>\n",
       "      <th>target</th>\n",
       "    </tr>\n",
       "  </thead>\n",
       "  <tbody>\n",
       "    <tr>\n",
       "      <th>0</th>\n",
       "      <td>52</td>\n",
       "      <td>1</td>\n",
       "      <td>0</td>\n",
       "      <td>125</td>\n",
       "      <td>212</td>\n",
       "      <td>0</td>\n",
       "      <td>1</td>\n",
       "      <td>168</td>\n",
       "      <td>0</td>\n",
       "      <td>1.0</td>\n",
       "      <td>2</td>\n",
       "      <td>2</td>\n",
       "      <td>3</td>\n",
       "      <td>0</td>\n",
       "    </tr>\n",
       "    <tr>\n",
       "      <th>1</th>\n",
       "      <td>53</td>\n",
       "      <td>1</td>\n",
       "      <td>0</td>\n",
       "      <td>140</td>\n",
       "      <td>203</td>\n",
       "      <td>1</td>\n",
       "      <td>0</td>\n",
       "      <td>155</td>\n",
       "      <td>1</td>\n",
       "      <td>3.1</td>\n",
       "      <td>0</td>\n",
       "      <td>0</td>\n",
       "      <td>3</td>\n",
       "      <td>0</td>\n",
       "    </tr>\n",
       "    <tr>\n",
       "      <th>2</th>\n",
       "      <td>70</td>\n",
       "      <td>1</td>\n",
       "      <td>0</td>\n",
       "      <td>145</td>\n",
       "      <td>174</td>\n",
       "      <td>0</td>\n",
       "      <td>1</td>\n",
       "      <td>125</td>\n",
       "      <td>1</td>\n",
       "      <td>2.6</td>\n",
       "      <td>0</td>\n",
       "      <td>0</td>\n",
       "      <td>3</td>\n",
       "      <td>0</td>\n",
       "    </tr>\n",
       "    <tr>\n",
       "      <th>3</th>\n",
       "      <td>61</td>\n",
       "      <td>1</td>\n",
       "      <td>0</td>\n",
       "      <td>148</td>\n",
       "      <td>203</td>\n",
       "      <td>0</td>\n",
       "      <td>1</td>\n",
       "      <td>161</td>\n",
       "      <td>0</td>\n",
       "      <td>0.0</td>\n",
       "      <td>2</td>\n",
       "      <td>1</td>\n",
       "      <td>3</td>\n",
       "      <td>0</td>\n",
       "    </tr>\n",
       "    <tr>\n",
       "      <th>4</th>\n",
       "      <td>62</td>\n",
       "      <td>0</td>\n",
       "      <td>0</td>\n",
       "      <td>138</td>\n",
       "      <td>294</td>\n",
       "      <td>1</td>\n",
       "      <td>1</td>\n",
       "      <td>106</td>\n",
       "      <td>0</td>\n",
       "      <td>1.9</td>\n",
       "      <td>1</td>\n",
       "      <td>3</td>\n",
       "      <td>2</td>\n",
       "      <td>0</td>\n",
       "    </tr>\n",
       "  </tbody>\n",
       "</table>\n",
       "</div>"
      ],
      "text/plain": [
       "   age  sex  cp  trestbps  chol  fbs  restecg  thalach  exang  oldpeak  slope  \\\n",
       "0   52    1   0       125   212    0        1      168      0      1.0      2   \n",
       "1   53    1   0       140   203    1        0      155      1      3.1      0   \n",
       "2   70    1   0       145   174    0        1      125      1      2.6      0   \n",
       "3   61    1   0       148   203    0        1      161      0      0.0      2   \n",
       "4   62    0   0       138   294    1        1      106      0      1.9      1   \n",
       "\n",
       "   ca  thal  target  \n",
       "0   2     3       0  \n",
       "1   0     3       0  \n",
       "2   0     3       0  \n",
       "3   1     3       0  \n",
       "4   3     2       0  "
      ]
     },
     "execution_count": 2,
     "metadata": {},
     "output_type": "execute_result"
    }
   ],
   "source": [
    "#dataset\n",
    "dataset=pd.read_csv(\"/kaggle/input/heart-disease-dataset/heart.csv\")\n",
    "\n",
    "#printing first 5 rows in the dataset\n",
    "dataset.head()\n",
    "\n"
   ]
  },
  {
   "cell_type": "code",
   "execution_count": 3,
   "metadata": {
    "execution": {
     "iopub.execute_input": "2024-11-24T09:05:15.760231Z",
     "iopub.status.busy": "2024-11-24T09:05:15.759815Z",
     "iopub.status.idle": "2024-11-24T09:05:15.766914Z",
     "shell.execute_reply": "2024-11-24T09:05:15.765246Z",
     "shell.execute_reply.started": "2024-11-24T09:05:15.760199Z"
    }
   },
   "outputs": [
    {
     "name": "stdout",
     "output_type": "stream",
     "text": [
      "The number of rows in a dataset 1025\n",
      "The number of columns in a dataset 14\n"
     ]
    }
   ],
   "source": [
    "#printing number of rows and columns in the dataset\n",
    "print(f\"The number of rows in a dataset {dataset.shape[0]}\")\n",
    "print(f\"The number of columns in a dataset {dataset.shape[1]}\")"
   ]
  },
  {
   "cell_type": "code",
   "execution_count": 4,
   "metadata": {
    "execution": {
     "iopub.execute_input": "2024-11-24T09:05:18.714291Z",
     "iopub.status.busy": "2024-11-24T09:05:18.713887Z",
     "iopub.status.idle": "2024-11-24T09:05:18.723087Z",
     "shell.execute_reply": "2024-11-24T09:05:18.721978Z",
     "shell.execute_reply.started": "2024-11-24T09:05:18.714257Z"
    }
   },
   "outputs": [
    {
     "name": "stdout",
     "output_type": "stream",
     "text": [
      "age         0\n",
      "sex         0\n",
      "cp          0\n",
      "trestbps    0\n",
      "chol        0\n",
      "fbs         0\n",
      "restecg     0\n",
      "thalach     0\n",
      "exang       0\n",
      "oldpeak     0\n",
      "slope       0\n",
      "ca          0\n",
      "thal        0\n",
      "target      0\n",
      "dtype: int64\n"
     ]
    }
   ],
   "source": [
    "#printing nullvalues in all columns\n",
    "print(dataset.isnull().sum())"
   ]
  },
  {
   "cell_type": "code",
   "execution_count": 5,
   "metadata": {
    "execution": {
     "iopub.execute_input": "2024-11-24T09:05:21.607366Z",
     "iopub.status.busy": "2024-11-24T09:05:21.606949Z",
     "iopub.status.idle": "2024-11-24T09:05:21.621141Z",
     "shell.execute_reply": "2024-11-24T09:05:21.619987Z",
     "shell.execute_reply.started": "2024-11-24T09:05:21.607331Z"
    }
   },
   "outputs": [
    {
     "name": "stdout",
     "output_type": "stream",
     "text": [
      "Duplicated values in a dataset: 723\n",
      "The number of rows in the dataset before removing duplicates: 1025\n"
     ]
    }
   ],
   "source": [
    "#printing duplicate values in the dataset\n",
    "print(f\"Duplicated values in a dataset: {dataset.duplicated().sum()}\")\n",
    "AllRows=dataset.shape[0]\n",
    "print(f\"The number of rows in the dataset before removing duplicates: {AllRows}\")"
   ]
  },
  {
   "cell_type": "code",
   "execution_count": 6,
   "metadata": {
    "execution": {
     "iopub.execute_input": "2024-11-24T09:05:24.221341Z",
     "iopub.status.busy": "2024-11-24T09:05:24.220907Z",
     "iopub.status.idle": "2024-11-24T09:05:24.235846Z",
     "shell.execute_reply": "2024-11-24T09:05:24.234165Z",
     "shell.execute_reply.started": "2024-11-24T09:05:24.221307Z"
    }
   },
   "outputs": [
    {
     "name": "stdout",
     "output_type": "stream",
     "text": [
      "The number of rows in the dataset after removing duplicates: 302\n"
     ]
    }
   ],
   "source": [
    "#removing these duplicate values\n",
    "dataset.drop_duplicates(inplace=True)\n",
    "AllRows_RMDUP=dataset.shape[0]\n",
    "print(f\"The number of rows in the dataset after removing duplicates: {AllRows_RMDUP}\")"
   ]
  },
  {
   "cell_type": "code",
   "execution_count": 7,
   "metadata": {
    "execution": {
     "iopub.execute_input": "2024-11-24T09:05:26.557396Z",
     "iopub.status.busy": "2024-11-24T09:05:26.556988Z",
     "iopub.status.idle": "2024-11-24T09:05:26.563556Z",
     "shell.execute_reply": "2024-11-24T09:05:26.562486Z",
     "shell.execute_reply.started": "2024-11-24T09:05:26.557360Z"
    }
   },
   "outputs": [
    {
     "name": "stdout",
     "output_type": "stream",
     "text": [
      "723\n"
     ]
    }
   ],
   "source": [
    "#making sure that duplicated values=723 \n",
    "duplicated_values=AllRows-AllRows_RMDUP\n",
    "print(duplicated_values)"
   ]
  },
  {
   "cell_type": "code",
   "execution_count": 8,
   "metadata": {
    "execution": {
     "iopub.execute_input": "2024-11-24T09:05:28.837530Z",
     "iopub.status.busy": "2024-11-24T09:05:28.837132Z",
     "iopub.status.idle": "2024-11-24T09:05:28.848961Z",
     "shell.execute_reply": "2024-11-24T09:05:28.847717Z",
     "shell.execute_reply.started": "2024-11-24T09:05:28.837494Z"
    }
   },
   "outputs": [
    {
     "data": {
      "text/plain": [
       "target\n",
       "1    164\n",
       "0    138\n",
       "Name: count, dtype: int64"
      ]
     },
     "execution_count": 8,
     "metadata": {},
     "output_type": "execute_result"
    }
   ],
   "source": [
    "#seeing the number of elements in the classes of the output column \"target\"\n",
    "dataset[\"target\"].value_counts()"
   ]
  },
  {
   "cell_type": "code",
   "execution_count": 9,
   "metadata": {
    "execution": {
     "iopub.execute_input": "2024-11-24T09:05:31.368224Z",
     "iopub.status.busy": "2024-11-24T09:05:31.367801Z",
     "iopub.status.idle": "2024-11-24T09:05:31.534182Z",
     "shell.execute_reply": "2024-11-24T09:05:31.532927Z",
     "shell.execute_reply.started": "2024-11-24T09:05:31.368188Z"
    }
   },
   "outputs": [
    {
     "data": {
      "image/png": "[encoded data removed]",
      "text/plain": [
       "<Figure size 640x480 with 1 Axes>"
      ]
     },
     "metadata": {},
     "output_type": "display_data"
    }
   ],
   "source": [
    "#showing pieplot of the output\n",
    "labels = dataset['target'].value_counts().index\n",
    "sizes = dataset['target'].value_counts().values\n",
    "colors = ['#FF9999', '#66B3FF', '#99FF99', '#FFCC99', '#FFD700']  # Define custom colors\n",
    "\n",
    "plt.pie(sizes, labels=labels, colors=colors, autopct='%1.1f%%')\n",
    "plt.axis('equal')  # Ensures the pie chart is a circle\n",
    "plt.show()"
   ]
  },
  {
   "cell_type": "code",
   "execution_count": 10,
   "metadata": {
    "execution": {
     "iopub.execute_input": "2024-11-24T09:05:34.573750Z",
     "iopub.status.busy": "2024-11-24T09:05:34.573350Z",
     "iopub.status.idle": "2024-11-24T09:05:34.581632Z",
     "shell.execute_reply": "2024-11-24T09:05:34.580202Z",
     "shell.execute_reply.started": "2024-11-24T09:05:34.573715Z"
    }
   },
   "outputs": [],
   "source": [
    "#determining the features and the output columns of the dataset\n",
    "y=dataset['target'] \n",
    "x=dataset.drop(\"target\",axis=1)\n",
    "#print(x.shape[1])"
   ]
  },
  {
   "cell_type": "code",
   "execution_count": 11,
   "metadata": {
    "execution": {
     "iopub.execute_input": "2024-11-24T09:05:47.404304Z",
     "iopub.status.busy": "2024-11-24T09:05:47.403903Z",
     "iopub.status.idle": "2024-11-24T09:05:47.413965Z",
     "shell.execute_reply": "2024-11-24T09:05:47.412702Z",
     "shell.execute_reply.started": "2024-11-24T09:05:47.404271Z"
    }
   },
   "outputs": [],
   "source": [
    "x_train,x_test,y_train,y_test=train_test_split(x,y,test_size=0.25,random_state=44,shuffle=True)\n"
   ]
  },
  {
   "cell_type": "code",
   "execution_count": 12,
   "metadata": {
    "execution": {
     "iopub.execute_input": "2024-11-24T09:05:50.533095Z",
     "iopub.status.busy": "2024-11-24T09:05:50.532641Z",
     "iopub.status.idle": "2024-11-24T09:05:50.872391Z",
     "shell.execute_reply": "2024-11-24T09:05:50.871183Z",
     "shell.execute_reply.started": "2024-11-24T09:05:50.533055Z"
    }
   },
   "outputs": [
    {
     "name": "stdout",
     "output_type": "stream",
     "text": [
      "predict is: 0, and real is: 0 \n",
      "predict is: 1, and real is: 1 \n",
      "predict is: 0, and real is: 0 \n",
      "predict is: 1, and real is: 1 \n",
      "predict is: 0, and real is: 0 \n",
      "predict is: 1, and real is: 1 \n",
      "predict is: 0, and real is: 0 \n",
      "predict is: 0, and real is: 0 \n",
      "predict is: 0, and real is: 0 \n",
      "predict is: 1, and real is: 1 \n"
     ]
    }
   ],
   "source": [
    "#code of classification using SVC\n",
    "from sklearn.svm import SVC\n",
    "SVMModel = SVC(kernel='linear', random_state=33)\n",
    "SVMModel.fit(x_train, y_train)\n",
    "y_pred_list=SVMModel.predict(x_test)\n",
    "#printing y_pred and y_test\n",
    "y_test_list=list(y_test)\n",
    "for x in range(10):\n",
    "    print(f\"predict is: {y_pred_list[x]}, and real is: {y_test_list[x]} \")\n"
   ]
  },
  {
   "cell_type": "code",
   "execution_count": 15,
   "metadata": {
    "execution": {
     "iopub.execute_input": "2024-11-24T09:06:38.394631Z",
     "iopub.status.busy": "2024-11-24T09:06:38.394079Z",
     "iopub.status.idle": "2024-11-24T09:06:38.403269Z",
     "shell.execute_reply": "2024-11-24T09:06:38.401845Z",
     "shell.execute_reply.started": "2024-11-24T09:06:38.394581Z"
    }
   },
   "outputs": [
    {
     "name": "stdout",
     "output_type": "stream",
     "text": [
      "76\n",
      "76\n",
      "Error values are 9 and true values are 67\n"
     ]
    }
   ],
   "source": [
    "print(y_pred_list.shape[0])\n",
    "print(y_test.shape[0])\n",
    "\n",
    "error=0\n",
    "true=0     #\"Error values are 10 and true values are 66\"\n",
    "for x,y in zip(y_test_list,y_pred_list):\n",
    "    if x!=y:error+=1\n",
    "    else:true+=1\n",
    "        \n",
    "print(f\"Error values are {error} and true values are {true}\")    "
   ]
  },
  {
   "cell_type": "code",
   "execution_count": 16,
   "metadata": {
    "execution": {
     "iopub.execute_input": "2024-11-24T09:07:36.403064Z",
     "iopub.status.busy": "2024-11-24T09:07:36.402599Z",
     "iopub.status.idle": "2024-11-24T09:07:36.518672Z",
     "shell.execute_reply": "2024-11-24T09:07:36.517382Z",
     "shell.execute_reply.started": "2024-11-24T09:07:36.403025Z"
    }
   },
   "outputs": [
    {
     "data": {
      "text/plain": [
       "(-1.0999999723447504,\n",
       " 1.0999999963851306,\n",
       " -1.0999997913758817,\n",
       " 1.0999997702233133)"
      ]
     },
     "execution_count": 16,
     "metadata": {},
     "output_type": "execute_result"
    },
    {
     "data": {
      "image/png": "[encoded data removed]",
      "text/plain": [
       "<Figure size 640x480 with 1 Axes>"
      ]
     },
     "metadata": {},
     "output_type": "display_data"
    }
   ],
   "source": [
    "# showing a pie plot for showing error and true percentage in the \n",
    "total_number=y_test.shape[0]\n",
    "labels = f'Error : {error} of {total_number}', f'True : {true} of {total_number}'\n",
    "sizes = [error, true]\n",
    "colors = ['#FF9999', '#66B3FF', '#99FF99', '#FFCC99', '#FFD700']\n",
    "# Plot the pie chart\n",
    "plt.pie(sizes, labels=labels, colors=colors, autopct='%1.1f%%', startangle=140)\n",
    "plt.axis('equal')  # Equal aspect ratio ensures that pie is drawn as a circle. 1    \n",
    "\n"
   ]
  },
  {
   "cell_type": "code",
   "execution_count": 17,
   "metadata": {
    "execution": {
     "iopub.execute_input": "2024-11-24T09:07:51.867314Z",
     "iopub.status.busy": "2024-11-24T09:07:51.866906Z",
     "iopub.status.idle": "2024-11-24T09:07:51.889296Z",
     "shell.execute_reply": "2024-11-24T09:07:51.888085Z",
     "shell.execute_reply.started": "2024-11-24T09:07:51.867279Z"
    }
   },
   "outputs": [
    {
     "name": "stdout",
     "output_type": "stream",
     "text": [
      "Accuracy: 0.881578947368421\n",
      "Precision: 0.9302325581395349\n",
      "Recall: 0.8695652173913043\n",
      "F1 Score: 0.898876404494382\n"
     ]
    }
   ],
   "source": [
    "# calculating accuracy_score, precision_score, recall_score, f1_score\n",
    "from sklearn.metrics import accuracy_score, precision_score, recall_score, f1_score\n",
    "\n",
    "accuracy = accuracy_score(y_test_list, y_pred_list)\n",
    "precision = precision_score(y_test_list, y_pred_list)\n",
    "recall = recall_score(y_test_list, y_pred_list)\n",
    "f1 = f1_score(y_test_list, y_pred_list)\n",
    "\n",
    "print(\"Accuracy:\", accuracy)\n",
    "print(\"Precision:\", precision)\n",
    "print(\"Recall:\", recall)\n",
    "print(\"F1 Score:\", f1)\n",
    "\n"
   ]
  }
 ],
 "metadata": {
  "kaggle": {
   "accelerator": "none",
   "dataSources": [
    {
     "datasetId": 216167,
     "sourceId": 477177,
     "sourceType": "datasetVersion"
    }
   ],
   "dockerImageVersionId": 30786,
   "isGpuEnabled": false,
   "isInternetEnabled": false,
   "language": "python",
   "sourceType": "notebook"
  },
  "kernelspec": {
   "display_name": "Python 3 (ipykernel)",
   "language": "python",
   "name": "python3"
  },
  "language_info": {
   "codemirror_mode": {
    "name": "ipython",
    "version": 3
   },
   "file_extension": ".py",
   "mimetype": "text/x-python",
   "name": "python",
   "nbconvert_exporter": "python",
   "pygments_lexer": "ipython3",
   "version": "3.11.9"
  }
 },
 "nbformat": 4,
 "nbformat_minor": 4
}
